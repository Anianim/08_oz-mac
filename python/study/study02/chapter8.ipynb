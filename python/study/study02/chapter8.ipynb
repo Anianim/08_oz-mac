{
 "cells": [
  {
   "cell_type": "code",
   "execution_count": 6,
   "metadata": {
    "colab": {
     "base_uri": "https://localhost:8080/"
    },
    "executionInfo": {
     "elapsed": 355,
     "status": "ok",
     "timestamp": 1731989316215,
     "user": {
      "displayName": "Ania",
      "userId": "01259967057282944382"
     },
     "user_tz": -540
    },
    "id": "uMTOyBF0mYL3",
    "outputId": "2ac6bc63-4296-4b20-f83c-8b17167fb918"
   },
   "outputs": [
    {
     "data": {
      "text/plain": [
       "False"
      ]
     },
     "execution_count": 6,
     "metadata": {},
     "output_type": "execute_result"
    }
   ],
   "source": [
    "#bool\n",
    "# 주의할점 True = true ?  X\n",
    "#         False = falsse ? X\n",
    "# 부등호\n",
    "3 > 1\n",
    "3 == 1\n",
    "3 == 3\n",
    "\n",
    "20 != 5\n",
    "20 != 20"
   ]
  },
  {
   "cell_type": "code",
   "execution_count": 7,
   "metadata": {
    "colab": {
     "base_uri": "https://localhost:8080/"
    },
    "executionInfo": {
     "elapsed": 354,
     "status": "ok",
     "timestamp": 1731989389083,
     "user": {
      "displayName": "Ania",
      "userId": "01259967057282944382"
     },
     "user_tz": -540
    },
    "id": "QgcH7uFkm57x",
    "outputId": "bb5566db-6dae-4f72-fcef-3d7bf31e67eb"
   },
   "outputs": [
    {
     "data": {
      "text/plain": [
       "True"
      ]
     },
     "execution_count": 7,
     "metadata": {},
     "output_type": "execute_result"
    }
   ],
   "source": [
    "#문자열 비교\n",
    "\"python\" == \"Python\" #False\n",
    "\"Python\" == \"Python\" #True\n",
    "\"python\" != \"Python\" #True"
   ]
  },
  {
   "cell_type": "code",
   "execution_count": 9,
   "metadata": {
    "colab": {
     "base_uri": "https://localhost:8080/"
    },
    "executionInfo": {
     "elapsed": 499,
     "status": "ok",
     "timestamp": 1731989417075,
     "user": {
      "displayName": "Ania",
      "userId": "01259967057282944382"
     },
     "user_tz": -540
    },
    "id": "vhVjXplrnLug",
    "outputId": "ddc2e680-fca4-4ef1-e9be-30d12854696c"
   },
   "outputs": [
    {
     "data": {
      "text/plain": [
       "False"
      ]
     },
     "execution_count": 9,
     "metadata": {},
     "output_type": "execute_result"
    }
   ],
   "source": [
    "# 부등호\n",
    "5 >= 5 #True\n",
    "5 < 4  # False"
   ]
  },
  {
   "cell_type": "code",
   "execution_count": 20,
   "metadata": {
    "colab": {
     "base_uri": "https://localhost:8080/"
    },
    "executionInfo": {
     "elapsed": 381,
     "status": "ok",
     "timestamp": 1731989623316,
     "user": {
      "displayName": "Ania",
      "userId": "01259967057282944382"
     },
     "user_tz": -540
    },
    "id": "l-XQ3AAqnSht",
    "outputId": "148e2fc6-6683-489b-b3b7-402600370ce6"
   },
   "outputs": [
    {
     "name": "stdout",
     "output_type": "stream",
     "text": [
      "136361254939248\n",
      "136361557770544\n"
     ]
    },
    {
     "name": "stderr",
     "output_type": "stream",
     "text": [
      "<>:4: SyntaxWarning: \"is\" with a literal. Did you mean \"==\"?\n",
      "<>:5: SyntaxWarning: \"is\" with a literal. Did you mean \"==\"?\n",
      "<>:4: SyntaxWarning: \"is\" with a literal. Did you mean \"==\"?\n",
      "<>:5: SyntaxWarning: \"is\" with a literal. Did you mean \"==\"?\n",
      "<ipython-input-20-c3c90d4d835e>:4: SyntaxWarning: \"is\" with a literal. Did you mean \"==\"?\n",
      "  3 is 3.0 # False 값은 같으나 데이터 타입이 다름\n",
      "<ipython-input-20-c3c90d4d835e>:5: SyntaxWarning: \"is\" with a literal. Did you mean \"==\"?\n",
      "  3 is 3   # True\n"
     ]
    }
   ],
   "source": [
    "# 중요\n",
    "# == , is\n",
    "\n",
    "3 is 3.0 # False 값은 같으나 데이터 타입이 다름\n",
    "3 is 3   # True\n",
    "3.0 == 3 # True\n",
    "\n",
    "print(id(3.0))\n",
    "print(id(3))"
   ]
  },
  {
   "cell_type": "markdown",
   "metadata": {
    "id": "z_VnpzfioE5i"
   },
   "source": [
    "미션 : 값 비교에는 is를 쓰면 안되는데 그 이유를 찾아서 작성하기\n",
    "\n",
    "다른 값을 할당하면 객체 주소가 달라지기 떄문에 \n",
    "실제로 정수 1과 실수 1.0 은 객체 주소가 다르기 때문에 False 가 나온다.\n",
    "\n",
    "확인 하려면 ip() 함수를 사용하면 된다."
   ]
  },
  {
   "cell_type": "code",
   "execution_count": 22,
   "metadata": {
    "colab": {
     "base_uri": "https://localhost:8080/"
    },
    "executionInfo": {
     "elapsed": 361,
     "status": "ok",
     "timestamp": 1731990006545,
     "user": {
      "displayName": "Ania",
      "userId": "01259967057282944382"
     },
     "user_tz": -540
    },
    "id": "22x6ewyzofXG",
    "outputId": "06255540-3bf8-4ba7-aca2-c95bd3404021"
   },
   "outputs": [
    {
     "data": {
      "text/plain": [
       "False"
      ]
     },
     "execution_count": 22,
     "metadata": {},
     "output_type": "execute_result"
    }
   ],
   "source": [
    "# 논리연산자\n",
    "# True : 1 / False : 0\n",
    "True and True # True 1  and는 *이라 생각하면 편하다.\n",
    "True and False # False 0\n",
    "False and True # False 0\n",
    "False and False # True 1\n",
    "\n",
    "True or True # True 1  or 은 +이라 생각하면 편하다. 1이상이면 True\n",
    "True or False # True  1\n",
    "False or True # True  1\n",
    "False or False # False 0\n"
   ]
  },
  {
   "cell_type": "code",
   "execution_count": 24,
   "metadata": {
    "colab": {
     "base_uri": "https://localhost:8080/"
    },
    "executionInfo": {
     "elapsed": 2,
     "status": "ok",
     "timestamp": 1731990042845,
     "user": {
      "displayName": "Ania",
      "userId": "01259967057282944382"
     },
     "user_tz": -540
    },
    "id": "QolI6BWrpieK",
    "outputId": "89f8af41-78b3-4cbe-af68-76d291372121"
   },
   "outputs": [
    {
     "data": {
      "text/plain": [
       "True"
      ]
     },
     "execution_count": 24,
     "metadata": {},
     "output_type": "execute_result"
    }
   ],
   "source": [
    "#not\n",
    "\n",
    "not True\n",
    "\n",
    "not False"
   ]
  },
  {
   "cell_type": "code",
   "execution_count": 29,
   "metadata": {
    "colab": {
     "base_uri": "https://localhost:8080/"
    },
    "executionInfo": {
     "elapsed": 548,
     "status": "ok",
     "timestamp": 1731990297198,
     "user": {
      "displayName": "Ania",
      "userId": "01259967057282944382"
     },
     "user_tz": -540
    },
    "id": "AizmnBTSprYp",
    "outputId": "4fe37002-d677-4c97-8f0b-3f46410c3f0a"
   },
   "outputs": [
    {
     "name": "stderr",
     "output_type": "stream",
     "text": [
      "<>:9: SyntaxWarning: \"is not\" with a literal. Did you mean \"!=\"?\n",
      "<>:9: SyntaxWarning: \"is not\" with a literal. Did you mean \"!=\"?\n",
      "<ipython-input-29-fda32340e819>:9: SyntaxWarning: \"is not\" with a literal. Did you mean \"!=\"?\n",
      "  not 7 is 7.0\n"
     ]
    },
    {
     "data": {
      "text/plain": [
       "True"
      ]
     },
     "execution_count": 29,
     "metadata": {},
     "output_type": "execute_result"
    }
   ],
   "source": [
    "# 점점 복잡해지는 조건들\n",
    "\n",
    "10 == 12 or 6 != 2\n",
    "#  False or True = True\n",
    "2 > 5 and 7 == 7\n",
    "# False and True = False\n",
    "not 14 <= 15\n",
    "#    True -> not = False\n",
    "not 7 is 7.0\n",
    "#    False -> not = True"
   ]
  },
  {
   "cell_type": "code",
   "execution_count": 31,
   "metadata": {
    "colab": {
     "base_uri": "https://localhost:8080/"
    },
    "executionInfo": {
     "elapsed": 329,
     "status": "ok",
     "timestamp": 1731990326169,
     "user": {
      "displayName": "Ania",
      "userId": "01259967057282944382"
     },
     "user_tz": -540
    },
    "id": "xs_4E8gbqpYu",
    "outputId": "e93798e0-c96c-4603-a9fd-4eef209fa35b"
   },
   "outputs": [
    {
     "data": {
      "text/plain": [
       "True"
      ]
     },
     "execution_count": 31,
     "metadata": {},
     "output_type": "execute_result"
    }
   ],
   "source": [
    "#문자열?? 너 뭐야 True야 ??\n",
    "bool(\"힘들어요\")"
   ]
  },
  {
   "cell_type": "code",
   "execution_count": 38,
   "metadata": {
    "colab": {
     "base_uri": "https://localhost:8080/"
    },
    "executionInfo": {
     "elapsed": 449,
     "status": "ok",
     "timestamp": 1731990670398,
     "user": {
      "displayName": "Ania",
      "userId": "01259967057282944382"
     },
     "user_tz": -540
    },
    "id": "nJ4G_C-Lqwg3",
    "outputId": "fdf0296b-66a7-43e9-8662-fc2ca434d6ed"
   },
   "outputs": [
    {
     "name": "stdout",
     "output_type": "stream",
     "text": [
      "False\n",
      "False\n",
      "False\n",
      "힘들어요\n"
     ]
    }
   ],
   "source": [
    "# 굉장히 중요한 내용\n",
    "# 단락 평가\n",
    "# 앞에서 이미 결과가 나오면 뒤 값을 확인 안해도 되니 밑의 경우는 반드시 외울 것\n",
    "# False and 일 경우는 False\n",
    "# True or 일 경우는 True\n",
    "\n",
    "print(False and True)\n",
    "print(False and \"힘들어요\")\n",
    "\n",
    "print(True and False)\n",
    "print(True and '힘들어요')\n",
    "# True 이기 때문에 뒤의 값을 출력한다."
   ]
  }
 ],
 "metadata": {
  "colab": {
   "authorship_tag": "ABX9TyON1zu8ClAj3Yf1keroI+0m",
   "provenance": []
  },
  "kernelspec": {
   "display_name": "Python 3",
   "name": "python3"
  },
  "language_info": {
   "name": "python"
  }
 },
 "nbformat": 4,
 "nbformat_minor": 0
}
