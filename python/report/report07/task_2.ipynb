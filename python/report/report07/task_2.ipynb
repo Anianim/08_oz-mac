{
 "cells": [
  {
   "cell_type": "markdown",
   "metadata": {
    "id": "w-vifSq-dF4X"
   },
   "source": [
    "파일을 읽어서 내용을 출력하는 프로그램을 작성하세요.\n",
    "\n",
    "- 파일이 존재하지 않을 때 발생하는 FileNotFoundError를 처리\n",
    "- 파일이 존재하지 않을 경우 \"파일을 찾을 수 없습니다.\"라는 메시지를 출력"
   ]
  },
  {
   "cell_type": "code",
   "execution_count": 5,
   "metadata": {
    "colab": {
     "base_uri": "https://localhost:8080/"
    },
    "executionInfo": {
     "elapsed": 6578,
     "status": "ok",
     "timestamp": 1732607992626,
     "user": {
      "displayName": "Ania",
      "userId": "01259967057282944382"
     },
     "user_tz": -540
    },
    "id": "6JOKVJHZdoMG",
    "outputId": "9589bc6c-7a29-4466-b8b7-27bf615fd2d5"
   },
   "outputs": [
    {
     "name": "stdout",
     "output_type": "stream",
     "text": [
      "읽을 파일의 이름을 입력해주세요book.txt\n",
      "파일을 찾을 수 없습니다.\n"
     ]
    }
   ],
   "source": [
    "def read_file(file_name):\n",
    "    try :\n",
    "        with open(file_name , 'r') as file : #파일 여는 형식 with open(파일명, 기능) as 식별자 :\n",
    "            content = file.read() # 파일을 한줄씩 읽어서 cobtent에 대입 해줌.\n",
    "            print(content)\n",
    "    except FileNotFoundError : # 파일이 존재하지 않을때 예외처리\n",
    "        print(\"파일을 찾을 수 없습니다.\")\n",
    "\n",
    "read_file(input(\"읽을 파일의 이름을 입력해주세요\"))"
   ]
  }
 ],
 "metadata": {
  "colab": {
   "provenance": []
  },
  "kernelspec": {
   "display_name": "Python 3",
   "name": "python3"
  },
  "language_info": {
   "name": "python"
  }
 },
 "nbformat": 4,
 "nbformat_minor": 0
}
