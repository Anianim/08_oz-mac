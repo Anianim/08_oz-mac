{
 "cells": [
  {
   "cell_type": "markdown",
   "metadata": {
    "id": "OWA8w9XjaAR-"
   },
   "source": [
    "사용자로부터 두 개의 숫자를 입력받아 나눗셈을 수행하는 프로그램을 작성하세요.\n",
    "\n",
    "[예외처리]\n",
    "- 입력 값이 숫자가 아닐 때 발생할 수 있는 ValueError\n",
    "- 나누는 수가 0일 때 발생할 수 있는 ZeroDivisionError\n",
    "- 위 2가지 예외처리 후 사용자에게 이해하기 쉬운 메시지 작성 후 출력되도록 코드를 작성"
   ]
  },
  {
   "cell_type": "code",
   "execution_count": 10,
   "metadata": {
    "colab": {
     "base_uri": "https://localhost:8080/"
    },
    "executionInfo": {
     "elapsed": 5870,
     "status": "ok",
     "timestamp": 1732607394149,
     "user": {
      "displayName": "Ania",
      "userId": "01259967057282944382"
     },
     "user_tz": -540
    },
    "id": "-ZJTJF3paJIB",
    "outputId": "69bf9685-5821-4201-f623-7d8275c043a7"
   },
   "outputs": [
    {
     "name": "stdout",
     "output_type": "stream",
     "text": [
      "숫자1 입력3\n",
      "숫자2 입력5cm\n",
      "입력 값이 숫자가 아닙니다.\n"
     ]
    }
   ],
   "source": [
    "def divide_numbers(num_1 , num_2):\n",
    "    try :\n",
    "        result = int(num_1) / int(num_2)\n",
    "        return result\n",
    "\n",
    "    except ValueError : # 타입 예외발생 예외처리\n",
    "        print(\"입력 값이 숫자가 아닙니다.\")\n",
    "\n",
    "    except ZeroDivisionError : # 0을 나눌때 발생하는 예외 처리\n",
    "        print(\"0은 나눌수 없습니다.\")\n",
    "\n",
    "divide_numbers(input(\"숫자1 입력\"),input(\"숫자2 입력\"))\n"
   ]
  }
 ],
 "metadata": {
  "colab": {
   "provenance": []
  },
  "kernelspec": {
   "display_name": "Python 3",
   "name": "python3"
  },
  "language_info": {
   "name": "python"
  }
 },
 "nbformat": 4,
 "nbformat_minor": 0
}
