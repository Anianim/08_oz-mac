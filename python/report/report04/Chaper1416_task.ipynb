{
 "cells": [
  {
   "cell_type": "markdown",
   "metadata": {
    "id": "BX7SgOeWu86I"
   },
   "source": [
    "안녕하세요. 수강생 여러분~! Chapter14 ~ 16 수업은 잘 들으셨나요?\n",
    "\n",
    "Chapter14 ~ 16의 수업 내용을 바탕으로 아래 문제를 풀어주시면 됩니다.\n",
    "\n",
    "<br>\n",
    "\n",
    "\n",
    "[**답변 입력 방법**]\n",
    "\n",
    "문제 아래에 있는 코드 입력창에 정답코드를 작성하신 후  __▷ 버튼을 클릭해 코드를 실행__ 해보세요<br>"
   ]
  },
  {
   "cell_type": "markdown",
   "metadata": {
    "id": "VNTPSgCqfhwk"
   },
   "source": [
    "---"
   ]
  },
  {
   "cell_type": "markdown",
   "metadata": {
    "id": "7kQJMRuFu-6s"
   },
   "source": [
    "__[문제1]__\n",
    "\n",
    "주어진 정수 x와 자연수 n을 이용해, x부터 시작해 x씩 증가하는 숫자를 n개 지니는 리스트를 출력해주세요   \n",
    "<br>\n",
    "\n",
    "x = 2, n =5"
   ]
  },
  {
   "cell_type": "code",
   "execution_count": null,
   "metadata": {
    "colab": {
     "base_uri": "https://localhost:8080/"
    },
    "executionInfo": {
     "elapsed": 344,
     "status": "ok",
     "timestamp": 1732190324123,
     "user": {
      "displayName": "Ania",
      "userId": "01259967057282944382"
     },
     "user_tz": -540
    },
    "id": "juUF2KYbu0DX",
    "outputId": "c6c374a8-2d52-4782-de1e-c60a79c9a6c4"
   },
   "outputs": [
    {
     "name": "stdout",
     "output_type": "stream",
     "text": [
      "[2, 4, 6, 8, 10]\n"
     ]
    }
   ],
   "source": [
    "# 리스트 를 출력해야하고\n",
    "#x시작해서 x씩 증가 하는 숫자 n개 구하세요\n",
    "x = 2\n",
    "n = 5\n",
    "num = []\n",
    "for i in range(n):\n",
    "    num.append( (i+1) * x )\n",
    "    #1회차 2\n",
    "print(num)\n",
    "# 2 4 6 8 10"
   ]
  },
  {
   "cell_type": "markdown",
   "metadata": {
    "id": "o4VEafvjfhwl"
   },
   "source": [
    "---"
   ]
  },
  {
   "cell_type": "markdown",
   "metadata": {
    "id": "4BPXMLXUvBVL"
   },
   "source": [
    "__[문제2]__\n",
    "\n",
    "전화번호가 문자열 phone_number로 주어졌을 때, 전화번호의 뒷 4자리를 *으로 가린 문자열이 출력되도록 코드를 작성해주세요\n",
    "\n",
    "phone_number = \"01012347890\"  \n",
    "<br>\n",
    "\n",
    "출력 예) \"0101234****\""
   ]
  },
  {
   "cell_type": "code",
   "execution_count": null,
   "metadata": {
    "colab": {
     "base_uri": "https://localhost:8080/",
     "height": 35
    },
    "executionInfo": {
     "elapsed": 333,
     "status": "ok",
     "timestamp": 1732190749280,
     "user": {
      "displayName": "Ania",
      "userId": "01259967057282944382"
     },
     "user_tz": -540
    },
    "id": "P0fY7CYUvC_j",
    "outputId": "81a155fa-23c2-4660-ba9f-f808f478a384"
   },
   "outputs": [
    {
     "data": {
      "application/vnd.google.colaboratory.intrinsic+json": {
       "type": "string"
      },
      "text/plain": [
       "'0101234****'"
      ]
     },
     "execution_count": 14,
     "metadata": {},
     "output_type": "execute_result"
    }
   ],
   "source": [
    "phone_number = \"01012347890\"\n",
    "\n",
    "num = phone_number[:-4] + \"****\"\n",
    "\n",
    "num"
   ]
  },
  {
   "cell_type": "markdown",
   "metadata": {
    "id": "bC2zFm_Ufhwm"
   },
   "source": [
    "---"
   ]
  },
  {
   "cell_type": "markdown",
   "metadata": {
    "id": "uUdOU9cFvDsq"
   },
   "source": [
    "__[문제3]__\n",
    "\n",
    "숫자를 건넬 때 일부 자릿수를 영단어로 바꾼 카드를 건네주면 프로도는 원래 숫자를 찾는 게임입니다.\n",
    "\n",
    "다음은 숫자의 일부 자릿수를 영단어로 바꾸는 예시입니다.\n",
    "\n",
    "1478 → \"one4seveneight\"  \n",
    "234567 → \"23four5six7\"  \n",
    "10203 → \"1zerotwozero3\"    \n",
    "\n",
    "이렇게 숫자의 일부 자릿수가 영단어로 바뀌어졌거나,   \n",
    "혹은 바뀌지 않고 그대로인 문자열 s가 주어졌을때\n",
    "s가 의미하는 원래 숫자를 출력하도록 코드를 작성해주세요\n",
    "\n",
    "s = \"77three4one\n",
    "\n",
    "---\n",
    "참고로 각 숫자에 대응되는 영단어는 다음 표와 같습니다.\n",
    "\n",
    "숫자\t영단어  \n",
    "0\tzero  \n",
    "1\tone  \n",
    "2\ttwo  \n",
    "3\tthree  \n",
    "4\tfour  \n",
    "5\tfive  \n",
    "6\tsix  \n",
    "7\tseven  \n",
    "8\teight  \n",
    "9\tnine  "
   ]
  },
  {
   "cell_type": "code",
   "execution_count": null,
   "metadata": {
    "colab": {
     "base_uri": "https://localhost:8080/",
     "height": 35
    },
    "executionInfo": {
     "elapsed": 12,
     "status": "ok",
     "timestamp": 1732191424423,
     "user": {
      "displayName": "Ania",
      "userId": "01259967057282944382"
     },
     "user_tz": -540
    },
    "id": "2NmqRFgDvFtz",
    "outputId": "f552a47f-bb58-4ede-8169-de4d7c75cda1"
   },
   "outputs": [
    {
     "data": {
      "application/vnd.google.colaboratory.intrinsic+json": {
       "type": "string"
      },
      "text/plain": [
       "'77341'"
      ]
     },
     "execution_count": 19,
     "metadata": {},
     "output_type": "execute_result"
    }
   ],
   "source": [
    "s = \"77three4one\"\n",
    "\n",
    "\n",
    "num = {\n",
    "    \"zero\" : \"0\",\n",
    "    \"one\" : \"1\",\n",
    "    'two' : \"2\",\n",
    "    'three' : \"3\",\n",
    "    'four' : \"4\",\n",
    "    'five': \"5\",\n",
    "    'six' : \"6\",\n",
    "    'seven' : \"7\",\n",
    "    'eight' : \"8\",\n",
    "    'nine' : \"9\"\n",
    "    }\n",
    "\n",
    "for key in num.keys() :\n",
    "    s = s.replace(key , num[key])\n",
    "s\n",
    "\n",
    "# s = \"문자열에서 원하는 값 뺴우기 ex) three , one \"\n",
    "# 빼온값이랑 num이라는 딕셔너리 있는 value 똑같은 값을 찾고 그 값의 Key 찾는거"
   ]
  },
  {
   "cell_type": "markdown",
   "metadata": {
    "id": "mNuUWVPNfhwn"
   },
   "source": [
    "---"
   ]
  },
  {
   "cell_type": "markdown",
   "metadata": {
    "id": "J0Tha6AdvGL3"
   },
   "source": [
    "__[문제4]__\n",
    "\n",
    "행렬의 덧셈은 행과 열의 크기가 같은 두 행렬의 같은 행, 같은 열의 값을 서로 더한 결과가 됩니다.\n",
    "\n",
    " 행렬 arr1과 arr2가 주어졌을 때, 행렬 덧셈의 결과를 출력하는 코드를 작성해주세요(result와 같은 결과가 출력되도록 작성)\n",
    "\n",
    "arr1 = [[1,2],[2,3]]\n",
    "\n",
    "arr2 = [[3,4],[5,6]]\n",
    "\n",
    "result = [[4,6],[7,9]]"
   ]
  },
  {
   "cell_type": "code",
   "execution_count": null,
   "metadata": {
    "colab": {
     "base_uri": "https://localhost:8080/"
    },
    "executionInfo": {
     "elapsed": 327,
     "status": "ok",
     "timestamp": 1732193209173,
     "user": {
      "displayName": "Ania",
      "userId": "01259967057282944382"
     },
     "user_tz": -540
    },
    "id": "ujiXrEhJvIV0",
    "outputId": "51e59271-ad0c-41bf-f156-bfb3e2c3cc4e"
   },
   "outputs": [
    {
     "data": {
      "text/plain": [
       "[[4, 6], [7, 9]]"
      ]
     },
     "execution_count": 28,
     "metadata": {},
     "output_type": "execute_result"
    }
   ],
   "source": [
    "# arr1 [0][0] arr2 [0][0]  # arr1 = 리스트 ( 리스트(값,값) , 리스트(값,값) )\n",
    "# arr1 [0][1]] arr2 [0][1]\n",
    "# arr1 [1][0] arr2 [1][0]\n",
    "# arr1 [1][1] arr2 [1][1]\n",
    "arr1 = [[1,2],[2,3]]\n",
    "\n",
    "arr2 = [[3,4],[5,6]]\n",
    "result = []\n",
    "\n",
    "# i=0            2\n",
    "# i = 1\n",
    "for i in range(len(arr1)):\n",
    "    # -----------\n",
    "    row = [ ] #row라는 리스트 변수를 선언하면서 비우는용도로 같이 쓰는중\n",
    "    # j= 0\n",
    "    # j= 1\n",
    "    # j= 2 False\n",
    "    for j in range(len(arr1)) :\n",
    "        #------------\n",
    "        row.append(arr1[i][j] + arr2[i][j]) #append ? 뒤에 추가\n",
    "        #                 10 10  = 7\n",
    "        #                 11 11 =  9\n",
    "        # row = [ 7, 9]\n",
    "        # j += 1\n",
    "    result.append(row)\n",
    "    # result= [ [4,6] , [7,9] ]\n",
    "\n",
    "\n",
    "result"
   ]
  },
  {
   "cell_type": "markdown",
   "metadata": {
    "id": "TeYRR8itfhwn"
   },
   "source": [
    "---"
   ]
  },
  {
   "cell_type": "markdown",
   "metadata": {
    "id": "eLdrWVkavJEN"
   },
   "source": [
    "__[문제5]__\n",
    "\n",
    "양의 정수 x가 하샤드 수이려면 x의 자릿수의 합으로 x가 나누어져야 합니다.   \n",
    "예를 들어 18의 자릿수 합은 1+8=9이고, 18은 9로 나누어 떨어지므로 18은 하샤드 수입니다.   \n",
    "주어진 x를 이용해 x가 하샤드 수인지 아닌지 검사하는 코드를 작성해주세요\n",
    "\n",
    "x = 17\n",
    "\n",
    "----\n",
    "\n",
    "입출력 예시\n",
    "x\t결과값  \n",
    "10\ttrue  \n",
    "12\ttrue  \n",
    "11\tfalse  \n",
    "13\tfalse  "
   ]
  },
  {
   "cell_type": "code",
   "execution_count": null,
   "metadata": {
    "colab": {
     "base_uri": "https://localhost:8080/"
    },
    "executionInfo": {
     "elapsed": 534,
     "status": "ok",
     "timestamp": 1732195881303,
     "user": {
      "displayName": "Ania",
      "userId": "01259967057282944382"
     },
     "user_tz": -540
    },
    "id": "EULD-IOrvKmG",
    "outputId": "f34f57dc-8106-4ddd-8807-a50176de08c0"
   },
   "outputs": [
    {
     "data": {
      "text/plain": [
       "False"
      ]
     },
     "execution_count": 71,
     "metadata": {},
     "output_type": "execute_result"
    }
   ],
   "source": [
    "# 십의자리 1의자리  % 10 -> 몫(십의자리) 나머지(일의자리)\n",
    " # x / (몫+나머지)  나눴을때  나머지가 0 이면 하샤드 수다.  True False\n",
    " # // %\n",
    "x = 17\n",
    "num_a = x // 10  #십의 자리\n",
    "num_b = x % 10 #일의자리\n",
    "\n",
    "\n",
    "if x%((x // 10)+(x % 10)) == 0 :\n",
    "# (x // 10)+(x % 10)\n",
    "# if x%(num_a+num_b) == 0 :\n",
    "\n",
    "    result = True\n",
    "else :\n",
    "    result = False\n",
    "\n",
    "result\n"
   ]
  },
  {
   "cell_type": "markdown",
   "metadata": {
    "id": "DUMHjttAfhwo"
   },
   "source": [
    "---"
   ]
  },
  {
   "cell_type": "markdown",
   "metadata": {
    "id": "GeS6hZhivLMZ"
   },
   "source": [
    "__[문제6]__\n",
    "\n",
    "String형 배열 seoul의 element중 \"Kim\"의 인덱스 x를 찾아, \"김서방은 x에 있다\"는 String을 출력하는 코드를 작성해주세요.   \n",
    "\n",
    "seoul에 \"Kim\"은 오직 한 번만 나타나며 잘못된 값이 입력되는 경우는 없습니다.\n",
    "\n",
    "seoul = [\"Jane\", \"Kim\"]\n",
    "\n",
    "<br>\n",
    "출력 예) \"김서방은 1에 있다\""
   ]
  },
  {
   "cell_type": "code",
   "execution_count": null,
   "metadata": {
    "colab": {
     "base_uri": "https://localhost:8080/"
    },
    "executionInfo": {
     "elapsed": 373,
     "status": "ok",
     "timestamp": 1732194290550,
     "user": {
      "displayName": "Ania",
      "userId": "01259967057282944382"
     },
     "user_tz": -540
    },
    "id": "e4LXat3BvRRg",
    "outputId": "0838e183-e839-4773-83d5-b7841f947488"
   },
   "outputs": [
    {
     "name": "stdout",
     "output_type": "stream",
     "text": [
      "김서방은 1번쨰에 있다\n"
     ]
    }
   ],
   "source": [
    "seoul = [\"Jane\", \"Kim\"]\n",
    "# seoul 리스트 그 요소중에 \"Kim\" 의 인덱스 를 찾아서  김서방은 몇번쨰에 있다 하는 문자를 출력하는 코드를 작성해라\n",
    "\n",
    "print(f'김서방은 {seoul.index(\"Kim\")}번쨰에 있다')\n",
    "\n"
   ]
  },
  {
   "cell_type": "markdown",
   "metadata": {
    "id": "YOEw_L40fhwo"
   },
   "source": [
    "---"
   ]
  },
  {
   "cell_type": "markdown",
   "metadata": {
    "id": "iZjKl-ZqvOkm"
   },
   "source": [
    "__[문제7]__\n",
    "\n",
    "0부터 9까지의 숫자 중 일부가 들어있는 정수 배열 numbers가 주어집니다.   \n",
    "numbers에서 찾을 수 없는 0부터 9까지의 숫자를 모두 찾아 더한 수를 출력해주세요\n",
    "\n",
    "numbers = [5,8,1,0,6,9]"
   ]
  },
  {
   "cell_type": "code",
   "execution_count": null,
   "metadata": {
    "colab": {
     "base_uri": "https://localhost:8080/"
    },
    "executionInfo": {
     "elapsed": 379,
     "status": "ok",
     "timestamp": 1732195565837,
     "user": {
      "displayName": "Ania",
      "userId": "01259967057282944382"
     },
     "user_tz": -540
    },
    "id": "598DAkIHvQav",
    "outputId": "d86f0d57-d68b-4d3e-e086-03a601687e08"
   },
   "outputs": [
    {
     "name": "stdout",
     "output_type": "stream",
     "text": [
      "1\n",
      "2\n",
      "16\n"
     ]
    }
   ],
   "source": [
    "\n",
    "\n",
    "# 0 1 2 3 4 5 6 7 8 9 = 전체 숫자\n",
    "# 0 1       5 6   8 9 = 리스트에 들어간 숫자\n",
    "#     2 3 4     7     = \"리스트에 없는 숫자들의 합\"\n",
    "\n",
    "\n",
    "# [0, 1, 2 , 3 ,4 ,6 , 7 ,8,  9  ]\n",
    "# set(range(10))\n",
    "\n",
    "sum = 0\n",
    "numbers = [5,8,1,0,6,9]\n",
    "\n",
    "for i in range(10) :\n",
    "    sum += i\n",
    "\n",
    "# sum = 0 ~ 9 전체 숫자의 합계가 들어간다.\n",
    "\n",
    "for i in range(len(numbers)) :\n",
    "    sum -= numbers[i]\n",
    "    # sum -5\n",
    "    # sum -8\n",
    "    # sum -1\n",
    "    # sum -0\n",
    "    # sum -6\n",
    "    # sum -9\n",
    "\n",
    "# sum에서 numbers의 요소의 값을 뺴준다.\n",
    "# 리스트에 없는 요소의 합계가 나옴.\n",
    "print(sum)\n"
   ]
  }
 ],
 "metadata": {
  "colab": {
   "provenance": []
  },
  "kernelspec": {
   "display_name": "Python 3",
   "name": "python3"
  },
  "language_info": {
   "codemirror_mode": {
    "name": "ipython",
    "version": 3
   },
   "file_extension": ".py",
   "mimetype": "text/x-python",
   "name": "python",
   "nbconvert_exporter": "python",
   "pygments_lexer": "ipython3",
   "version": "3.11.7"
  }
 },
 "nbformat": 4,
 "nbformat_minor": 0
}
