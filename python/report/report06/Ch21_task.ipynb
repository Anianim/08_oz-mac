{
 "cells": [
  {
   "cell_type": "markdown",
   "metadata": {
    "id": "OzPC_VArol8O"
   },
   "source": [
    "사용자로부터 이름과 나이를 입력 받아, \"안녕하세요, [이름]님! 당신은 [나이]살입니다.\"라고 출력하는 함수 greet_user를 작성하세요."
   ]
  },
  {
   "cell_type": "markdown",
   "metadata": {
    "id": "GyyPsobTol8P"
   },
   "source": [
    "# 이름과 나이를 매개변수로 받아 출력하는 함수 를 정의 하세요."
   ]
  },
  {
   "cell_type": "code",
   "execution_count": null,
   "metadata": {
    "colab": {
     "base_uri": "https://localhost:8080/"
    },
    "executionInfo": {
     "elapsed": 349,
     "status": "ok",
     "timestamp": 1732526841381,
     "user": {
      "displayName": "Ania",
      "userId": "01259967057282944382"
     },
     "user_tz": -540
    },
    "id": "0JamqW-No0oq",
    "outputId": "8073b547-f77d-4a6a-d127-20ea7466e954"
   },
   "outputs": [
    {
     "name": "stdout",
     "output_type": "stream",
     "text": [
      "안녕하세요, 영주님! 당신은 30살입니다.\n"
     ]
    }
   ],
   "source": [
    "def greet_user (name, age): # 함수 정의 및 매개변수 지정\n",
    "    print(f\"안녕하세요, {name}님! 당신은 {age}살입니다.\") #파라미터를 이용해서 출력문 작성\n",
    "\n",
    "greet_user('아무개',33)"
   ]
  }
 ],
 "metadata": {
  "colab": {
   "provenance": []
  },
  "kernelspec": {
   "display_name": "Python 3",
   "name": "python3"
  },
  "language_info": {
   "name": "python"
  }
 },
 "nbformat": 4,
 "nbformat_minor": 0
}
