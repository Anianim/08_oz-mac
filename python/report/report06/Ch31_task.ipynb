{
 "cells": [
  {
   "cell_type": "markdown",
   "metadata": {
    "id": "kSjQHYqCGh3J"
   },
   "source": [
    "문자열 리스트를 받아, 각 문자열의 길이를 출력하는 함수 print_lengths를 작성하세요."
   ]
  },
  {
   "cell_type": "code",
   "execution_count": 7,
   "metadata": {
    "colab": {
     "base_uri": "https://localhost:8080/"
    },
    "executionInfo": {
     "elapsed": 480,
     "status": "ok",
     "timestamp": 1732534813328,
     "user": {
      "displayName": "Ania",
      "userId": "01259967057282944382"
     },
     "user_tz": -540
    },
    "id": "MLVliZ6fGkFJ",
    "outputId": "05c93921-c4fc-4cff-91ce-7dad41fac067"
   },
   "outputs": [
    {
     "name": "stdout",
     "output_type": "stream",
     "text": [
      "[7, 5, 2]\n"
     ]
    }
   ],
   "source": [
    "# 각 문자열의 길이를 출력한다\n",
    "\n",
    "def print_lengths(*strings):\n",
    "    lenlist = []\n",
    "    for i in range(len(strings)):\n",
    "        lenlist.append(len(strings[i]))\n",
    "    return lenlist\n",
    "\n",
    "print(print_lengths(\"아라라라213\", \"41542\", \"나는\"))"
   ]
  }
 ],
 "metadata": {
  "colab": {
   "provenance": []
  },
  "kernelspec": {
   "display_name": "Python 3",
   "name": "python3"
  },
  "language_info": {
   "name": "python"
  }
 },
 "nbformat": 4,
 "nbformat_minor": 0
}
