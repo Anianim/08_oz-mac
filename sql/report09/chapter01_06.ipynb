{
 "cells": [
  {
   "cell_type": "markdown",
   "metadata": {
    "id": "tjnLp2Z6G5Tu"
   },
   "source": [
    "[문제1]L::::\n",
    "\n",
    "DBMS 특징이 아닌것을 골라주세요\n",
    "\n",
    "- 데이터 무결성\n",
    "- 데이터 보안성\n",
    "- 데이터 일관성\n",
    "- 데이터 의존성"
   ]
  },
  {
   "cell_type": "markdown",
   "metadata": {
    "id": "BufEQyYMG5Tx"
   },
   "source": [
    "정답 : 데이터 의존성"
   ]
  },
  {
   "cell_type": "markdown",
   "metadata": {
    "id": "UkjnzTvFG5Tx"
   },
   "source": [
    "[문제2]\n",
    "\n",
    "아래 설명에 해당하는 데이터 모델을 골라주세요\n",
    "\n",
    "```\n",
    "표 형태로 데이터를 저장하고 SQL을 사용하여 데이터를 조작합니다.\n",
    "가장 널리 사용되는 데이터 모델 중 하나이며 RDBMS에서 지원합니다.\n",
    "```\n",
    "\n",
    "- 관계형 데이터 모델\n",
    "- 객체 지향형 데이터 모델\n",
    "- 계층형 데이터 모델\n",
    "- 네트워크형 데이터 모델"
   ]
  },
  {
   "cell_type": "markdown",
   "metadata": {
    "id": "f79PG2pdG5Ty"
   },
   "source": [
    "정답 : 관계형 데이터 모델"
   ]
  },
  {
   "cell_type": "markdown",
   "metadata": {
    "id": "Big0brACG5Ty"
   },
   "source": [
    "[문제3]\n",
    "\n",
    "데이터베이스의 구조를 정의하는 것을 골라주세요\n",
    "\n",
    "- 인덱스\n",
    "- 트랜잭션\n",
    "- 스키마\n",
    "- SQL"
   ]
  },
  {
   "cell_type": "markdown",
   "metadata": {
    "id": "XIBEOaIpG5Ty"
   },
   "source": [
    "정답 : 스키마"
   ]
  },
  {
   "cell_type": "markdown",
   "metadata": {
    "id": "-AW7ofFUG5Tz"
   },
   "source": [
    "[문제4]\n",
    "\n",
    "RDBMS의 대표적인 단점이 아닌것을 골라주세요\n",
    "\n",
    "- 실시간 데이터 처리의 어려움\n",
    "- 운영 비용이 비쌈\n",
    "- 테이블 join의 복잡성\n",
    "- 미리 만들어진 스키마 구조를 변경 또는 확장하는데 어려움\n",
    "- 대량의 데이터를 저장하는게 어려움"
   ]
  },
  {
   "cell_type": "markdown",
   "metadata": {
    "id": "L-7d1sKpG5Tz"
   },
   "source": [
    "**정답** : 대량의 데이터를 저장하는게 어렵다\n",
    "\n",
    "> REDBS는 미리 정해진 구조에 따라 저장되어야하고 구조변경이 어렵다. 다양한 형태의 데이터를 빠르게 처리하기가 어렵다.\n",
    "\n",
    "> 주로 수직적 확장을 하는데 한계가 있고 수평은 큰비용이 듬.\n",
    "\n",
    "> 복잡한 트랜잭션 처리와 테이블간 조인은 시스템에 부하를 많이 준다."
   ]
  },
  {
   "cell_type": "markdown",
   "metadata": {
    "id": "JMWfvsFeG5Tz"
   },
   "source": [
    "[문제5]\n",
    "\n",
    "RDBMS의 구성 요소 중 고유한 값을 나타내는 것을 골라주세요\n",
    "\n",
    "- column\n",
    "- row\n",
    "- FK\n",
    "- PK"
   ]
  },
  {
   "cell_type": "markdown",
   "metadata": {
    "id": "Hu2L_Fx_G5Tz"
   },
   "source": [
    "정답 : Primary Key  , PK 기본키라고 도 하며 고유한 값을 가진다."
   ]
  },
  {
   "cell_type": "markdown",
   "metadata": {
    "id": "7U1okmNwG5T0"
   },
   "source": [
    "[문제6]\n",
    "\n",
    "대표적인 RDBMS가 아닌것을 골라주세요\n",
    "\n",
    "- SQLite\n",
    "- Oracle Database\n",
    "- PostgreSQL\n",
    "- Firebase"
   ]
  },
  {
   "cell_type": "markdown",
   "metadata": {
    "id": "-n_yD-LqG5T0"
   },
   "source": [
    "정답 : Firebase\n",
    "\n",
    "---\n",
    "\n",
    "RDBMS 에 대표적으로 MySQL , MariaDB, Oracle Database, PostgreSQL 정도가 있음"
   ]
  },
  {
   "cell_type": "markdown",
   "metadata": {
    "id": "Lp5E_s4wG5T0"
   },
   "source": [
    "[문제7]\n",
    "\n",
    "물리적 스키마란 무엇을 의마하는지 골라주세요\n",
    "\n",
    "- 데이터베이스 논리적 구조\n",
    "- 데이터베이스 물리적 저장 방식\n",
    "- 데이터베이스 사용자 뷰\n",
    "- 데이터베이스의 엑세스 권한"
   ]
  },
  {
   "cell_type": "markdown",
   "metadata": {
    "id": "rYORlgw1G5T0"
   },
   "source": [
    "정답 : 데이터베이스의 물리적 저장 방식이다.\n",
    "\n",
    "> 논리적 구조는 사용자 관점에서 본 구조로써 데이터의 논리적 배치를 말한다.\n",
    "\n",
    "> 사용자 뷰는 View 는 가상테이블이다. 접근이 허용된 자료를 제한적으로 보여주기위해 사용함. 물리적으로 존재하지는 않음.\n",
    "\n",
    "> 액세스 권한을 통해서 데이터를 보안한다."
   ]
  },
  {
   "cell_type": "markdown",
   "metadata": {
    "id": "TuPODBbsG5T0"
   },
   "source": [
    "[문제8]\n",
    "\n",
    "SQL 언어에 해당하지 않는 것을 골라주세요\n",
    "\n",
    "- 데이터 처리 언어(DML)\n",
    "- 데이터 제어 언어(DCL)\n",
    "- 데이터 연결 언어(DCL)\n",
    "- 데이터 정의 언어(DDL)"
   ]
  },
  {
   "cell_type": "markdown",
   "metadata": {
    "id": "LkIGBg3wG5T1"
   },
   "source": [
    "정답 : 데이터 연결 언어(DCL)\n",
    "\n",
    "\n",
    "---\n",
    "> 데이터 처리 언어 DML :  SELECT , INSERT , UPDATE, DELETE   \n",
    "데이터베이스의 데이터를 선택하거나 , 삽입, 변경, 삭제하는 언어\n",
    "\n",
    "> 데이터 정의 언어 DDL : CREATE , ALTER , DROP , RENAME , TRUNCATE  \n",
    " 데이터 베이스 테이블에 들어 있는 데이터에 삽입, 수정, 삭제 등의 명령어\n",
    "\n",
    "> 데이터 제어 언어 DCL : GRANT , REVOKE  \n",
    " 데이터베이스에 접근하고 객체들을 사용하도록 권한을 부여, 회수 하는 명령어"
   ]
  },
  {
   "cell_type": "code",
   "execution_count": null,
   "metadata": {
    "id": "jOvfdXiaRQXR"
   },
   "outputs": [],
   "source": [
    "M SIUD\n",
    "D CADRT\n",
    "C GR"
   ]
  },
  {
   "cell_type": "markdown",
   "metadata": {
    "id": "1NVhkuCHG5T1"
   },
   "source": [
    "[문제9]\n",
    "\n",
    "데이터 처리 언어(DML)의 설명으로 틀린것을 골라주세요\n",
    "\n",
    "- select : 데이터베이스에서 정보를 검색\n",
    "- insert : 새로운 데이터를 테이블에 삽입\n",
    "- count : 테이블의 데이터 개수 확인\n",
    "- delete : 테이블에서 데이터를 삭제"
   ]
  },
  {
   "cell_type": "markdown",
   "metadata": {
    "id": "s01tvHGgG5T1"
   },
   "source": [
    "정답 : count"
   ]
  }
 ],
 "metadata": {
  "colab": {
   "provenance": []
  },
  "language_info": {
   "name": "python"
  }
 },
 "nbformat": 4,
 "nbformat_minor": 0
}
